{
 "cells": [
  {
   "cell_type": "markdown",
   "metadata": {},
   "source": [
    "# Workshop 5: Logistic Regression"
   ]
  },
  {
   "cell_type": "markdown",
   "metadata": {},
   "source": [
    "## 1. NumPy\n",
    "NumPy is a Python library used for working with arrays. It also has functions for working in domain of linear algebra, fourier transform, and matrices. Arrays are very frequently used in data science, where speed and resources are very important.\n",
    "### 1.1 Import NumPy"
   ]
  },
  {
   "cell_type": "code",
   "execution_count": null,
   "metadata": {},
   "outputs": [],
   "source": [
    "import ..."
   ]
  },
  {
   "cell_type": "markdown",
   "metadata": {},
   "source": [
    "### 1.2 List to NumPy array"
   ]
  },
  {
   "cell_type": "code",
   "execution_count": null,
   "metadata": {},
   "outputs": [],
   "source": [
    "my_list = [i for i in range(100)]\n",
    "my_array = ..."
   ]
  },
  {
   "cell_type": "markdown",
   "metadata": {},
   "source": [
    "### 1.3 NumPy array filled with 0 or 1"
   ]
  },
  {
   "cell_type": "code",
   "execution_count": null,
   "metadata": {},
   "outputs": [],
   "source": []
  },
  {
   "cell_type": "markdown",
   "metadata": {},
   "source": [
    "### 1.4 Attributes of NumPy Array\n",
    "#### 1.4.1 Shape"
   ]
  },
  {
   "cell_type": "code",
   "execution_count": null,
   "metadata": {},
   "outputs": [],
   "source": []
  },
  {
   "cell_type": "markdown",
   "metadata": {},
   "source": [
    "#### 1.4.2 Dimension"
   ]
  },
  {
   "cell_type": "code",
   "execution_count": null,
   "metadata": {},
   "outputs": [],
   "source": []
  },
  {
   "cell_type": "markdown",
   "metadata": {},
   "source": [
    "### 1.5 NumPy Operations\n",
    "#### 1.5.1 Reshape"
   ]
  },
  {
   "cell_type": "code",
   "execution_count": null,
   "metadata": {},
   "outputs": [],
   "source": []
  },
  {
   "cell_type": "markdown",
   "metadata": {},
   "source": [
    "#### 1.5.2 Matrix Multiplication"
   ]
  },
  {
   "cell_type": "code",
   "execution_count": 303,
   "metadata": {},
   "outputs": [],
   "source": [
    "A = np.array([[1, 1],[0, 1]])\n",
    "B = np.array([[2, 4],[3, 4]])"
   ]
  },
  {
   "cell_type": "markdown",
   "metadata": {},
   "source": [
    "#### 1.5.3 Concatenate"
   ]
  },
  {
   "cell_type": "code",
   "execution_count": null,
   "metadata": {},
   "outputs": [],
   "source": []
  },
  {
   "cell_type": "markdown",
   "metadata": {},
   "source": [
    "## 2. NumPy in Multi-modality\n",
    "### 2.1 Image"
   ]
  },
  {
   "cell_type": "code",
   "execution_count": null,
   "metadata": {},
   "outputs": [],
   "source": [
    "!pip install opencv-python"
   ]
  },
  {
   "cell_type": "markdown",
   "metadata": {},
   "source": [
    "#### Exercise 1. Could you design a script to convert the X-ray image into a binary image?"
   ]
  },
  {
   "cell_type": "code",
   "execution_count": null,
   "metadata": {},
   "outputs": [],
   "source": [
    "       "
   ]
  },
  {
   "cell_type": "markdown",
   "metadata": {},
   "source": [
    "### 2.2 Pose"
   ]
  },
  {
   "cell_type": "code",
   "execution_count": 181,
   "metadata": {},
   "outputs": [],
   "source": [
    "pose_array = np.array( [[-0.49126648902893066,-0.16382354497909546,0.0],\n",
    "                        [-0.5030810236930847,-0.1462211012840271,-0.12090033292770386],\n",
    "                        [-0.4290885329246521,0.3420290946960449,0.012488692998886108],\n",
    "                        [-0.5385088920593262,0.8048254251480103,0.06580041348934174],\n",
    "                        [-0.4689345955848694,-0.1521742343902588,0.11721065640449524],\n",
    "                        [-0.36572253704071045,0.31261348724365234,0.20495736598968506],\n",
    "                        [-0.4516284465789795,0.7063550353050232,0.24885067343711853],\n",
    "                        [-0.4288720190525055,-0.4576428532600403,-0.04007837176322937],\n",
    "                        [-0.3569672107696533,-0.748015284538269,-0.09235414862632751],\n",
    "                        [-0.21033641695976257,-0.8595240116119385,-0.11599870026111603],\n",
    "                        [-0.3256295919418335,-0.9874147772789001,-0.15237876772880554],\n",
    "                        [-0.3511592447757721,-0.6545630693435669,0.06010124832391739],\n",
    "                        [-0.3368244171142578,-0.3754662871360779,0.20444586873054504],\n",
    "                        [-0.16042567789554596,-0.3471113443374634,0.1360340118408203],\n",
    "                        [-0.38100922107696533,-0.6662216186523438,-0.20743998885154724],\n",
    "                        [-0.43782952427864075,-0.3520342707633972,-0.2417106032371521],\n",
    "                        [-0.23194746673107147,-0.24138987064361572,-0.15254870057106018]])"
   ]
  },
  {
   "cell_type": "markdown",
   "metadata": {},
   "source": [
    "### 2.3 Audio"
   ]
  },
  {
   "cell_type": "code",
   "execution_count": null,
   "metadata": {},
   "outputs": [],
   "source": [
    "!pip install librosa"
   ]
  },
  {
   "cell_type": "markdown",
   "metadata": {},
   "source": [
    "More feature extraction functions: https://librosa.org/doc/latest/feature.html"
   ]
  },
  {
   "cell_type": "markdown",
   "metadata": {},
   "source": [
    "### 2.4 3D Point Cloud"
   ]
  },
  {
   "cell_type": "code",
   "execution_count": null,
   "metadata": {},
   "outputs": [],
   "source": [
    "!pip install open3d"
   ]
  },
  {
   "cell_type": "markdown",
   "metadata": {},
   "source": [
    "## 3. Logistic regression"
   ]
  },
  {
   "cell_type": "code",
   "execution_count": null,
   "metadata": {},
   "outputs": [],
   "source": [
    "!pip install scikit-learn"
   ]
  },
  {
   "cell_type": "code",
   "execution_count": null,
   "metadata": {},
   "outputs": [],
   "source": [
    "from sklearn.datasets import make_classification\n",
    "from matplotlib import pyplot as plt\n",
    "\n",
    "# Generate classification dataset\n",
    "x, y = make_classification(n_features=2, n_redundant=0, n_informative=1, n_clusters_per_class=1,random_state=2043)\n",
    "\n",
    "plt.scatter(x[:,0], x[:,1], c=y)"
   ]
  },
  {
   "cell_type": "markdown",
   "metadata": {},
   "source": [
    "### Prediction function for logistic regression\n",
    "$$\n",
    "h_\\theta(x)=\\frac{1}{1+e^{-\\theta^T x}}\n",
    "$$\n",
    "\n",
    "This is the hypothetical function of logistic regression, also named as the prediction function.\n",
    "\n",
    "### Cost function\n",
    "$$\n",
    "\\begin{aligned}\n",
    "&J(\\theta)=\\frac{1}{m} \\sum_{i=1}^m \\operatorname{Cost}\\left(h_\\theta\\left(x^i\\right), y^i\\right) \\\\\n",
    "&=-\\frac{1}{m}\\left[\\sum_{i=1}^m y^i \\log h_\\theta\\left(x^i\\right)+\\left(1-y^i\\right) \\log \\left(1-h_\\theta\\left(x^i\\right)\\right)\\right]\n",
    "\\end{aligned}\n",
    "$$\n",
    "\n",
    "### Gradient Descent\n",
    "$$\n",
    "\\theta_j:=\\theta_j-\\alpha \\frac{1}{m} \\sum_{i=1}^m\\left(h_\\theta\\left(x^i\\right)-y^i\\right) x_j^i\n",
    "$$"
   ]
  }
 ],
 "metadata": {
  "kernelspec": {
   "display_name": "Python 3 (ipykernel)",
   "language": "python",
   "name": "python3"
  },
  "language_info": {
   "codemirror_mode": {
    "name": "ipython",
    "version": 3
   },
   "file_extension": ".py",
   "mimetype": "text/x-python",
   "name": "python",
   "nbconvert_exporter": "python",
   "pygments_lexer": "ipython3",
   "version": "3.7.16"
  },
  "vscode": {
   "interpreter": {
    "hash": "b0fa6594d8f4cbf19f97940f81e996739fb7646882a419484c72d19e05852a7e"
   }
  }
 },
 "nbformat": 4,
 "nbformat_minor": 2
}
