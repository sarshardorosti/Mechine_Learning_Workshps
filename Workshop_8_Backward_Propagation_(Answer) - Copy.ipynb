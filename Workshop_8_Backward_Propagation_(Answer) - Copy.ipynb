{
 "cells": [
  {
   "cell_type": "markdown",
   "id": "51d18caf",
   "metadata": {},
   "source": [
    "# Workshop 8. Backward Propagation\n",
    "## 1. Review of forward propagation"
   ]
  },
  {
   "cell_type": "code",
   "execution_count": 20,
   "id": "5276941d",
   "metadata": {},
   "outputs": [],
   "source": [
    "import numpy as np\n",
    "import matplotlib.pyplot as plt"
   ]
  },
  {
   "cell_type": "code",
   "execution_count": 21,
   "id": "3f1455c2",
   "metadata": {},
   "outputs": [
    {
     "data": {
      "text/plain": [
       "array([[0.61548081]])"
      ]
     },
     "execution_count": 21,
     "metadata": {},
     "output_type": "execute_result"
    }
   ],
   "source": [
    "data = np.array([0.3,0.7]).reshape(1,-1)\n",
    "weight_1 = np.array([[0.5,0.2,0.4],[-0.3,-0.3,0.6]])\n",
    "weight_2 = np.array([0.5,-0.6,0.8]).reshape(-1,1)\n",
    "z1 = data@weight_1\n",
    "h = 1/(1+np.exp(-z1))\n",
    "\n",
    "z2 = h@weight_2\n",
    "output = 1/(1+np.exp(-z2))\n",
    "output"
   ]
  },
  {
   "cell_type": "markdown",
   "id": "f9477780",
   "metadata": {},
   "source": [
    "## 2. Backward Propagation\n",
    "### 2.1 Perceptron\n",
    "Perceptron is a single layer neural network and a multi-layer perceptron is called Neural Networks. Perceptron is a linear classifier (binary)\n",
    "\n",
    "#### Loss function\n",
    "$$\n",
    "\\begin{aligned}\n",
    "&J(\\theta)=-\\frac{1}{m}\\left[\\sum_{i=1}^m y^i \\log h_\\theta\\left(x^i\\right)+\\left(1-y^i\\right) \\log \\left(1-h_\\theta\\left(x^i\\right)\\right)\\right]\n",
    "\\end{aligned}\n",
    "$$"
   ]
  },
  {
   "cell_type": "code",
   "execution_count": 22,
   "id": "975d30b7",
   "metadata": {},
   "outputs": [
    {
     "data": {
      "text/plain": [
       "<mpl_toolkits.mplot3d.art3d.Path3DCollection at 0x1e6436ce310>"
      ]
     },
     "execution_count": 22,
     "metadata": {},
     "output_type": "execute_result"
    },
    {
     "data": {
      "image/png": "[encoded data removed]",
      "text/plain": [
       "<Figure size 432x288 with 1 Axes>"
      ]
     },
     "metadata": {
      "needs_background": "light"
     },
     "output_type": "display_data"
    }
   ],
   "source": [
    "data = np.array([[1,0,0,0],#0\n",
    "                 [1,0,0,1],#0\n",
    "                 [1,1,0,0],#0\n",
    "                 [1,0,1,0],#0\n",
    "                 [1,1,1,0],#1\n",
    "                 [1,0,1,1],#1\n",
    "                 [1,1,0,1],#1\n",
    "                 [1,1,1,1]])#1\n",
    "\n",
    "y = np.array([0,0,0,0,1,1,1,1])\n",
    "\n",
    "fig = plt.figure()\n",
    "ax = plt.axes(projection ='3d')\n",
    "ax.set_xlim(0,1)\n",
    "ax.set_ylim(0,1)\n",
    "ax.set_zlim(0,1)\n",
    "\n",
    "ax.scatter(data[:4,1],data[:4,2],data[:4,3],s=80)\n",
    "ax.scatter(data[4:,1],data[4:,2],data[4:,3],s=80)"
   ]
  },
  {
   "cell_type": "markdown",
   "id": "f2f55867",
   "metadata": {},
   "source": [
    "#### 2.1.1 Without activation function"
   ]
  },
  {
   "cell_type": "code",
   "execution_count": 23,
   "id": "4d25753f",
   "metadata": {},
   "outputs": [
    {
     "data": {
      "text/plain": [
       "array([14.79028503, 21.05712478, 21.79708147, 21.05712478, 28.06392122,\n",
       "       27.32396453, 28.06392122, 34.33076097])"
      ]
     },
     "execution_count": 23,
     "metadata": {},
     "output_type": "execute_result"
    }
   ],
   "source": [
    "theta = np.array([2.0,2.0,1.0,1.0])\n",
    "y = np.array([0,0,0,0,1,1,1,1])\n",
    "alpha = 0.001\n",
    "\n",
    "for epoch in range(20000):\n",
    "    z = data@theta\n",
    "    theta-=alpha*(((1-y)/(1-z)-y/z))@data\n",
    "    \n",
    "z = data@theta\n",
    "z"
   ]
  },
  {
   "cell_type": "markdown",
   "id": "5a97ea1d",
   "metadata": {},
   "source": [
    "#### 2.1.2 Sigmoid activation function:\n",
    "$$\n",
    "f(z)=\\frac{1}{1+e^{-z}}\n",
    "$$\n",
    "\n",
    "$$\n",
    "f(z)'= f(z)(1-f(z))\n",
    "$$"
   ]
  },
  {
   "cell_type": "code",
   "execution_count": 24,
   "id": "4c03c0f6",
   "metadata": {},
   "outputs": [
    {
     "data": {
      "text/plain": [
       "array([0.0015736 , 0.11473618, 0.11475776, 0.11475776, 0.91425539,\n",
       "       0.91423874, 0.91423874, 0.99886081])"
      ]
     },
     "execution_count": 24,
     "metadata": {},
     "output_type": "execute_result"
    }
   ],
   "source": [
    "theta = np.array([1.0,2.0,2.0,1.0])\n",
    "y = np.array([0,0,0,0,1,1,1,1])\n",
    "alpha = 0.005\n",
    "\n",
    "for epoch in range(6000):\n",
    "    z = data@theta\n",
    "    a = 1/(1+np.exp(-z))\n",
    "    j = a*(1-a)\n",
    "    theta-=alpha*(((1-y)/(1-a)-y/a)*j)@data\n",
    "    \n",
    "z = data@theta\n",
    "a = 1/(1+np.exp(-z))\n",
    "a"
   ]
  },
  {
   "cell_type": "markdown",
   "id": "b761103d",
   "metadata": {},
   "source": [
    "#### 2.1.3 Tanh activation function:\n",
    "$$\n",
    "f(z)=\\frac{e^{z}-e^{-z}}{e^{z}+e^{-z}}\n",
    "$$\n",
    "\n",
    "$$\n",
    "f(z)'= 1-f(z)^2\n",
    "$$"
   ]
  },
  {
   "cell_type": "code",
   "execution_count": 25,
   "id": "14014255",
   "metadata": {},
   "outputs": [
    {
     "data": {
      "text/plain": [
       "array([-0.99999371, -0.95990077, -0.95990077, -0.95990077,  0.98508491,\n",
       "        0.98508491,  0.98508491,  0.99999769])"
      ]
     },
     "execution_count": 25,
     "metadata": {},
     "output_type": "execute_result"
    }
   ],
   "source": [
    "theta = np.array([1.0,2.0,1.0,1.0])\n",
    "y = np.array([0,0,0,0,1,1,1,1])\n",
    "alpha = 0.01\n",
    "\n",
    "for epoch in range(5000):\n",
    "    z = data@theta\n",
    "    a = (np.exp(z)-np.exp(-z))/(np.exp(z)+np.exp(-z))\n",
    "    j=1-a**2\n",
    "    theta-=alpha*(((1-y)/(1-a)-y/a)*j)@data\n",
    "    \n",
    "z = data@theta\n",
    "a = (np.exp(z)-np.exp(-z))/(np.exp(z)+np.exp(-z))\n",
    "a"
   ]
  },
  {
   "cell_type": "code",
   "execution_count": 26,
   "id": "dce227ac",
   "metadata": {},
   "outputs": [
    {
     "data": {
      "text/plain": [
       "-0.9998640781861056"
      ]
     },
     "execution_count": 26,
     "metadata": {},
     "output_type": "execute_result"
    }
   ],
   "source": [
    "test_data = np.array([1,0.2,0.1,0.05])\n",
    "z = test_data@theta\n",
    "a = (np.exp(z)-np.exp(-z))/(np.exp(z)+np.exp(-z))\n",
    "a"
   ]
  },
  {
   "cell_type": "markdown",
   "id": "450d87f2",
   "metadata": {},
   "source": [
    "### 2.2 Neural Network\n",
    "\n",
    "#### Error of output layer\n",
    "\\begin{equation}\n",
    "\\delta^{(2)} = a^{(2)} - y\n",
    "\\end{equation}\n",
    "\n",
    "#### Error of hidden layer\n",
    "\\begin{equation}\n",
    "\\delta^{(1)} = (W^{(2)})^T \\cdot \\delta^{(2)} \\odot g'(a^{(1)})\n",
    "\\end{equation}\n",
    "\n",
    "#### Gradient Descent Update\n",
    "\n",
    "\\begin{equation}\n",
    "W^{(1)} = W^{(1)} - \\alpha \\frac{1}{m} \\delta^{(1)}X^T\n",
    "\\end{equation}\n",
    "\n",
    "\\begin{equation}\n",
    "W^{(2)} = W^{(2)} - \\alpha \\frac{1}{m} \\delta^{(2)}(a^{(1)})^T\n",
    "\\end{equation}"
   ]
  },
  {
   "cell_type": "code",
   "execution_count": 27,
   "id": "ad35bc1f",
   "metadata": {},
   "outputs": [],
   "source": [
    "data_2D = np.array([[1,0,0],#0\n",
    "                    [1,1,0],#1\n",
    "                    [1,0,1],#1\n",
    "                    [1,1,1]])#0"
   ]
  },
  {
   "cell_type": "code",
   "execution_count": 28,
   "id": "b7c86a96",
   "metadata": {},
   "outputs": [
    {
     "data": {
      "text/plain": [
       "array([[0.00405776],\n",
       "       [0.99782612],\n",
       "       [0.99782612],\n",
       "       [0.00343751]])"
      ]
     },
     "execution_count": 28,
     "metadata": {},
     "output_type": "execute_result"
    }
   ],
   "source": [
    "theta_1 = np.array([[1.0,0.0],\n",
    "                    [1.0,0.0],\n",
    "                    [1.0,0.0]])\n",
    "theta_2 = np.array([[1.0],\n",
    "                    [0.0]])\n",
    "y = np.array([0,1,1,0]).reshape(-1,1)\n",
    "alpha = 0.05\n",
    "\n",
    "for epoch in range(90000):\n",
    "    z_1 = data_2D@theta_1\n",
    "    h_1 = 1/(1+np.exp(-z_1))\n",
    "    z_2 = h_1@theta_2\n",
    "    h_2 = 1/(1+np.exp(-z_2))\n",
    "    \n",
    "    theta_2-=alpha*h_1.T@(h_2-y)\n",
    "    theta_1-=alpha*data_2D.T@(((h_2-y)@theta_2.T)*h_1*(1-h_1))\n",
    "    \n",
    "    \n",
    "z_1 = data_2D@theta_1\n",
    "h_1 = 1/(1+np.exp(-z_1))\n",
    "z_2 = h_1@theta_2\n",
    "h_2 = 1/(1+np.exp(-z_2))\n",
    "\n",
    "h_2"
   ]
  }
 ],
 "metadata": {
  "kernelspec": {
   "display_name": "Python 3 (ipykernel)",
   "language": "python",
   "name": "python3"
  },
  "language_info": {
   "codemirror_mode": {
    "name": "ipython",
    "version": 3
   },
   "file_extension": ".py",
   "mimetype": "text/x-python",
   "name": "python",
   "nbconvert_exporter": "python",
   "pygments_lexer": "ipython3",
   "version": "3.9.12"
  }
 },
 "nbformat": 4,
 "nbformat_minor": 5
}
